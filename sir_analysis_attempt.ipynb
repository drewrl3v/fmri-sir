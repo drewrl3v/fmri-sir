{
 "cells": [
  {
   "cell_type": "code",
   "execution_count": 29,
   "metadata": {},
   "outputs": [],
   "source": [
    "# Ni Utils\n",
    "from nilearn.datasets import fetch_spm_auditory\n",
    "from nilearn.plotting import plot_anat, plot_img, plot_stat_map\n",
    "from nilearn.image import concat_imgs, mean_img\n",
    "from nilearn.glm.first_level import FirstLevelModel\n",
    "from nilearn.glm.first_level import make_first_level_design_matrix\n",
    "\n",
    "# Sci Utils\n",
    "from scipy.stats import gamma\n",
    "\n",
    "# Plotting Utils\n",
    "from nilearn.plotting import plot_design_matrix\n",
    "import matplotlib.pyplot as plt\n",
    "\n",
    "# Table Utils\n",
    "import pandas as pd\n",
    "\n",
    "import numpy as np"
   ]
  },
  {
   "cell_type": "code",
   "execution_count": 2,
   "metadata": {},
   "outputs": [],
   "source": [
    "subject_data = fetch_spm_auditory()"
   ]
  },
  {
   "cell_type": "code",
   "execution_count": 3,
   "metadata": {},
   "outputs": [
    {
     "data": {
      "text/html": [
       "<div>\n",
       "<style scoped>\n",
       "    .dataframe tbody tr th:only-of-type {\n",
       "        vertical-align: middle;\n",
       "    }\n",
       "\n",
       "    .dataframe tbody tr th {\n",
       "        vertical-align: top;\n",
       "    }\n",
       "\n",
       "    .dataframe thead th {\n",
       "        text-align: right;\n",
       "    }\n",
       "</style>\n",
       "<table border=\"1\" class=\"dataframe\">\n",
       "  <thead>\n",
       "    <tr style=\"text-align: right;\">\n",
       "      <th></th>\n",
       "      <th>onset</th>\n",
       "      <th>duration</th>\n",
       "      <th>trial_type</th>\n",
       "    </tr>\n",
       "  </thead>\n",
       "  <tbody>\n",
       "    <tr>\n",
       "      <th>0</th>\n",
       "      <td>0.0</td>\n",
       "      <td>42.0</td>\n",
       "      <td>rest</td>\n",
       "    </tr>\n",
       "    <tr>\n",
       "      <th>1</th>\n",
       "      <td>42.0</td>\n",
       "      <td>42.0</td>\n",
       "      <td>active</td>\n",
       "    </tr>\n",
       "    <tr>\n",
       "      <th>2</th>\n",
       "      <td>84.0</td>\n",
       "      <td>42.0</td>\n",
       "      <td>rest</td>\n",
       "    </tr>\n",
       "    <tr>\n",
       "      <th>3</th>\n",
       "      <td>126.0</td>\n",
       "      <td>42.0</td>\n",
       "      <td>active</td>\n",
       "    </tr>\n",
       "    <tr>\n",
       "      <th>4</th>\n",
       "      <td>168.0</td>\n",
       "      <td>42.0</td>\n",
       "      <td>rest</td>\n",
       "    </tr>\n",
       "    <tr>\n",
       "      <th>5</th>\n",
       "      <td>210.0</td>\n",
       "      <td>42.0</td>\n",
       "      <td>active</td>\n",
       "    </tr>\n",
       "    <tr>\n",
       "      <th>6</th>\n",
       "      <td>252.0</td>\n",
       "      <td>42.0</td>\n",
       "      <td>rest</td>\n",
       "    </tr>\n",
       "    <tr>\n",
       "      <th>7</th>\n",
       "      <td>294.0</td>\n",
       "      <td>42.0</td>\n",
       "      <td>active</td>\n",
       "    </tr>\n",
       "    <tr>\n",
       "      <th>8</th>\n",
       "      <td>336.0</td>\n",
       "      <td>42.0</td>\n",
       "      <td>rest</td>\n",
       "    </tr>\n",
       "    <tr>\n",
       "      <th>9</th>\n",
       "      <td>378.0</td>\n",
       "      <td>42.0</td>\n",
       "      <td>active</td>\n",
       "    </tr>\n",
       "    <tr>\n",
       "      <th>10</th>\n",
       "      <td>420.0</td>\n",
       "      <td>42.0</td>\n",
       "      <td>rest</td>\n",
       "    </tr>\n",
       "    <tr>\n",
       "      <th>11</th>\n",
       "      <td>462.0</td>\n",
       "      <td>42.0</td>\n",
       "      <td>active</td>\n",
       "    </tr>\n",
       "    <tr>\n",
       "      <th>12</th>\n",
       "      <td>504.0</td>\n",
       "      <td>42.0</td>\n",
       "      <td>rest</td>\n",
       "    </tr>\n",
       "    <tr>\n",
       "      <th>13</th>\n",
       "      <td>546.0</td>\n",
       "      <td>42.0</td>\n",
       "      <td>active</td>\n",
       "    </tr>\n",
       "    <tr>\n",
       "      <th>14</th>\n",
       "      <td>588.0</td>\n",
       "      <td>42.0</td>\n",
       "      <td>rest</td>\n",
       "    </tr>\n",
       "    <tr>\n",
       "      <th>15</th>\n",
       "      <td>630.0</td>\n",
       "      <td>42.0</td>\n",
       "      <td>active</td>\n",
       "    </tr>\n",
       "  </tbody>\n",
       "</table>\n",
       "</div>"
      ],
      "text/plain": [
       "    onset  duration trial_type\n",
       "0     0.0      42.0       rest\n",
       "1    42.0      42.0     active\n",
       "2    84.0      42.0       rest\n",
       "3   126.0      42.0     active\n",
       "4   168.0      42.0       rest\n",
       "5   210.0      42.0     active\n",
       "6   252.0      42.0       rest\n",
       "7   294.0      42.0     active\n",
       "8   336.0      42.0       rest\n",
       "9   378.0      42.0     active\n",
       "10  420.0      42.0       rest\n",
       "11  462.0      42.0     active\n",
       "12  504.0      42.0       rest\n",
       "13  546.0      42.0     active\n",
       "14  588.0      42.0       rest\n",
       "15  630.0      42.0     active"
      ]
     },
     "execution_count": 3,
     "metadata": {},
     "output_type": "execute_result"
    }
   ],
   "source": [
    "fmri_img = concat_imgs(subject_data.func)\n",
    "mean_img = mean_img(fmri_img)\n",
    "events = pd.read_table(subject_data[\"events\"])\n",
    "events"
   ]
  },
  {
   "cell_type": "code",
   "execution_count": 11,
   "metadata": {},
   "outputs": [
    {
     "name": "stdout",
     "output_type": "stream",
     "text": [
      "(64, 64, 64, 96)\n",
      "42.0\n"
     ]
    }
   ],
   "source": [
    "# (x,y,z, signal)\n",
    "all_data = fmri_img.get_fdata()\n",
    "print(all_data.shape)\n",
    "print(all_data[0][0][0][0])"
   ]
  },
  {
   "cell_type": "code",
   "execution_count": 22,
   "metadata": {},
   "outputs": [],
   "source": [
    "fmri_glm = FirstLevelModel(\n",
    "    t_r=7,                  # is the time of repetition of acquisitions\n",
    "    noise_model=\"ar1\",      # specifies the noise covariance model: lag-1 dependence\n",
    "    standardize=False,      # we don't rescale the time series to mean 0, variance 1\n",
    "    hrf_model=\"spm\",        # we rely on the SPM (Statistical Parametric Mapping) model\n",
    "    drift_model=\"cosine\",   # we model the signal drifts as slow oscillating time functions\n",
    "    high_pass=0.01,         # defines the cutoff frequency\n",
    ")\n",
    "\n",
    "fmri_glm = fmri_glm.fit(fmri_img, events)\n",
    "X = fmri_glm.design_matrices_[0]"
   ]
  },
  {
   "cell_type": "code",
   "execution_count": 23,
   "metadata": {},
   "outputs": [
    {
     "data": {
      "text/plain": [
       "(96, 16)"
      ]
     },
     "execution_count": 23,
     "metadata": {},
     "output_type": "execute_result"
    }
   ],
   "source": [
    "X.shape # 96 data points comprised of 16 sessions (active, rest, drifts ....., constant)"
   ]
  },
  {
   "cell_type": "code",
   "execution_count": 24,
   "metadata": {},
   "outputs": [
    {
     "data": {
      "text/plain": [
       "(96, 262144)"
      ]
     },
     "execution_count": 24,
     "metadata": {},
     "output_type": "execute_result"
    }
   ],
   "source": [
    "Y = fmri_img.get_fdata().reshape(-1, fmri_img.shape[-1]).T\n",
    "Y.shape # To each data point we correspond the (x,y,z) signals reshaped as (x*y*z) to make the regression easy"
   ]
  },
  {
   "cell_type": "code",
   "execution_count": 25,
   "metadata": {},
   "outputs": [],
   "source": [
    "from sklearn.linear_model import LinearRegression\n",
    "\n",
    "# Initialize the GLM model\n",
    "glm = LinearRegression()"
   ]
  },
  {
   "cell_type": "code",
   "execution_count": 26,
   "metadata": {},
   "outputs": [],
   "source": [
    "betas = np.array([glm.fit(X, Y[:, voxel]).coef_ for voxel in range(Y.shape[1])])"
   ]
  },
  {
   "cell_type": "code",
   "execution_count": 27,
   "metadata": {},
   "outputs": [
    {
     "data": {
      "text/plain": [
       "(262144, 16)"
      ]
     },
     "execution_count": 27,
     "metadata": {},
     "output_type": "execute_result"
    }
   ],
   "source": [
    "betas.shape"
   ]
  },
  {
   "cell_type": "markdown",
   "metadata": {},
   "source": [
    "# From Scratch Approach to get the Design Matrix"
   ]
  },
  {
   "cell_type": "code",
   "execution_count": 196,
   "metadata": {},
   "outputs": [],
   "source": [
    "# Define the total number of scans and TR (time of repetition)\n",
    "n_scans = fmri_img.shape[-1]\n",
    "tr = 7 # repetition time\n",
    "\n",
    "# Time array in seconds\n",
    "time = np.arange(n_scans) * tr\n",
    "\n",
    "# Define a hemodynamic response function (HRF)\n",
    "def hrf(times):\n",
    "    # Gamma pdf for the peak\n",
    "    peak_values = gamma.pdf(times, 6)\n",
    "    # Gamma pdf for the undershoot\n",
    "    undershoot_values = gamma.pdf(times, 12)\n",
    "    # Combine them\n",
    "    values = peak_values - 0.35 * undershoot_values\n",
    "    # Normalize to a peak of 1\n",
    "    return values / np.max(values)\n",
    "\n",
    "# Convolve the boxcar function with the HRF for each condition\n",
    "design_matrix = pd.DataFrame(index=time)\n",
    "for condition in events['trial_type'].unique():\n",
    "    # Create a boxcar function for this condition\n",
    "    boxcar = np.zeros(n_scans)\n",
    "    condition_events = events[events['trial_type'] == condition]\n",
    "    for _, row in condition_events.iterrows():\n",
    "        boxcar[int(row['onset'] / tr):int((row['onset'] + row['duration']) / tr)] = 1\n",
    "    # Convolve with HRF\n",
    "    convolved = np.convolve(boxcar, hrf(np.arange(0, 35, tr)))[:n_scans]\n",
    "    # Add to the design matrix\n",
    "    design_matrix[condition] = convolved"
   ]
  },
  {
   "cell_type": "code",
   "execution_count": 197,
   "metadata": {},
   "outputs": [],
   "source": [
    "design_matrix = design_matrix.iloc[:,[1,0]]\n",
    "#design_matrix[:,0], design_matrix[:,1] = design_matrix[:,1], design_matrix[:,0]\n",
    "#print(design_matrix.shape)"
   ]
  },
  {
   "cell_type": "code",
   "execution_count": 192,
   "metadata": {},
   "outputs": [
    {
     "data": {
      "image/png": "[encoded data removed]",
      "text/plain": [
       "<Figure size 1000x600 with 2 Axes>"
      ]
     },
     "metadata": {},
     "output_type": "display_data"
    }
   ],
   "source": [
    "# Plot the design matrix\n",
    "plt.figure(figsize=(10, 6))\n",
    "plt.imshow(design_matrix, aspect='auto')\n",
    "plt.xlabel('Scans')\n",
    "plt.ylabel('Regressors')\n",
    "plt.title('Design Matrix')\n",
    "plt.colorbar()\n",
    "plt.show()"
   ]
  },
  {
   "cell_type": "code",
   "execution_count": 198,
   "metadata": {},
   "outputs": [
    {
     "data": {
      "image/png": "[encoded data removed]",
      "text/plain": [
       "<Figure size 400x1000 with 1 Axes>"
      ]
     },
     "metadata": {},
     "output_type": "display_data"
    }
   ],
   "source": [
    "# Assuming 'design_matrix' is already created with your event-related regressors\n",
    "\n",
    "# Parameters\n",
    "n_scans = fmri_img.shape[-1]\n",
    "tr = 7  # Time of repetition in seconds\n",
    "high_pass = 0.01  # High pass filter cutoff in Hz\n",
    "\n",
    "# Total scanning time\n",
    "total_scan_time = n_scans * tr\n",
    "\n",
    "# Calculate the number of cosine drift terms (rule of thumb: 2x the period of cutoff)\n",
    "num_cosine_terms = int(np.floor(2 * total_scan_time * high_pass))\n",
    "\n",
    "# Generate cosine drift terms\n",
    "for i in range(num_cosine_terms):\n",
    "    frequency = (1 / total_scan_time) * (i + 1)\n",
    "    cosine_drift = np.cos(np.arange(n_scans) * 1 * np.pi * frequency * tr)\n",
    "    design_matrix[f'cosine_drift_{i}'] = cosine_drift\n",
    "\n",
    "# Orthogonalize (optional)\n",
    "# Here we orthogonalize cosine drift terms against the other regressors\n",
    "#other_regressors = design_matrix.columns.difference(['cosine_drift_' + str(i) for i in range(num_cosine_terms)])\n",
    "#X = design_matrix[other_regressors]\n",
    "#for i in range(num_cosine_terms):\n",
    "#    drift_column = f'cosine_drift_{i}'\n",
    "#    orthogonalized_drift = design_matrix[drift_column] - X.dot(np.linalg.pinv(X).dot(design_matrix[drift_column]))\n",
    "#    design_matrix[drift_column] = orthogonalized_drift\n",
    "\n",
    "# Normalize each drift regressor to have unit variance\n",
    "for i in range(num_cosine_terms):\n",
    "    drift_column = f'cosine_drift_{i}'\n",
    "    design_matrix[drift_column] /= np.std(design_matrix[drift_column])\n",
    "\n",
    "#design_matrix['active'] /= np.std(design_matrix['active']) #/ high_pass\n",
    "#design_matrix['rest'] /= np.std(design_matrix['rest']) #/ high_pass\n",
    "\n",
    "# Add a constant term\n",
    "design_matrix['constant'] = 1\n",
    "\n",
    "# Plot the design matrix\n",
    "plt.figure(figsize=(4, 10))\n",
    "plt.imshow(design_matrix, aspect='auto')\n",
    "plt.xlabel('Scans')\n",
    "plt.ylabel('Regressors')\n",
    "plt.title('Design Matrix with Cosine Drifts')\n",
    "#plt.colorbar()\n",
    "plt.show()\n"
   ]
  },
  {
   "cell_type": "code",
   "execution_count": 194,
   "metadata": {},
   "outputs": [
    {
     "data": {
      "text/html": [
       "<div>\n",
       "<style scoped>\n",
       "    .dataframe tbody tr th:only-of-type {\n",
       "        vertical-align: middle;\n",
       "    }\n",
       "\n",
       "    .dataframe tbody tr th {\n",
       "        vertical-align: top;\n",
       "    }\n",
       "\n",
       "    .dataframe thead th {\n",
       "        text-align: right;\n",
       "    }\n",
       "</style>\n",
       "<table border=\"1\" class=\"dataframe\">\n",
       "  <thead>\n",
       "    <tr style=\"text-align: right;\">\n",
       "      <th></th>\n",
       "      <th>active</th>\n",
       "      <th>rest</th>\n",
       "      <th>cosine_drift_0</th>\n",
       "      <th>cosine_drift_1</th>\n",
       "      <th>cosine_drift_2</th>\n",
       "      <th>cosine_drift_3</th>\n",
       "      <th>cosine_drift_4</th>\n",
       "      <th>cosine_drift_5</th>\n",
       "      <th>cosine_drift_6</th>\n",
       "      <th>cosine_drift_7</th>\n",
       "      <th>cosine_drift_8</th>\n",
       "      <th>cosine_drift_9</th>\n",
       "      <th>cosine_drift_10</th>\n",
       "      <th>cosine_drift_11</th>\n",
       "      <th>cosine_drift_12</th>\n",
       "      <th>constant</th>\n",
       "    </tr>\n",
       "  </thead>\n",
       "  <tbody>\n",
       "    <tr>\n",
       "      <th>7</th>\n",
       "      <td>0.0</td>\n",
       "      <td>2.326722</td>\n",
       "      <td>1.413610</td>\n",
       "      <td>1.411186</td>\n",
       "      <td>1.407556</td>\n",
       "      <td>1.402115</td>\n",
       "      <td>1.395476</td>\n",
       "      <td>1.387040</td>\n",
       "      <td>1.377419</td>\n",
       "      <td>1.366025</td>\n",
       "      <td>1.353465</td>\n",
       "      <td>1.339161</td>\n",
       "      <td>1.323714</td>\n",
       "      <td>1.306563</td>\n",
       "      <td>1.288296</td>\n",
       "      <td>1</td>\n",
       "    </tr>\n",
       "    <tr>\n",
       "      <th>0</th>\n",
       "      <td>0.0</td>\n",
       "      <td>0.000000</td>\n",
       "      <td>1.414367</td>\n",
       "      <td>1.414214</td>\n",
       "      <td>1.414367</td>\n",
       "      <td>1.414214</td>\n",
       "      <td>1.414367</td>\n",
       "      <td>1.414214</td>\n",
       "      <td>1.414367</td>\n",
       "      <td>1.414214</td>\n",
       "      <td>1.414367</td>\n",
       "      <td>1.414214</td>\n",
       "      <td>1.414367</td>\n",
       "      <td>1.414214</td>\n",
       "      <td>1.414367</td>\n",
       "      <td>1</td>\n",
       "    </tr>\n",
       "  </tbody>\n",
       "</table>\n",
       "</div>"
      ],
      "text/plain": [
       "   active      rest  cosine_drift_0  cosine_drift_1  cosine_drift_2  \\\n",
       "7     0.0  2.326722        1.413610        1.411186        1.407556   \n",
       "0     0.0  0.000000        1.414367        1.414214        1.414367   \n",
       "\n",
       "   cosine_drift_3  cosine_drift_4  cosine_drift_5  cosine_drift_6  \\\n",
       "7        1.402115        1.395476        1.387040        1.377419   \n",
       "0        1.414214        1.414367        1.414214        1.414367   \n",
       "\n",
       "   cosine_drift_7  cosine_drift_8  cosine_drift_9  cosine_drift_10  \\\n",
       "7        1.366025        1.353465        1.339161         1.323714   \n",
       "0        1.414214        1.414367        1.414214         1.414367   \n",
       "\n",
       "   cosine_drift_11  cosine_drift_12  constant  \n",
       "7         1.306563         1.288296         1  \n",
       "0         1.414214         1.414367         1  "
      ]
     },
     "execution_count": 194,
     "metadata": {},
     "output_type": "execute_result"
    }
   ],
   "source": [
    "design_matrix.iloc[[1,0]]"
   ]
  }
 ],
 "metadata": {
  "kernelspec": {
   "display_name": "Python 3",
   "language": "python",
   "name": "python3"
  },
  "language_info": {
   "codemirror_mode": {
    "name": "ipython",
    "version": 3
   },
   "file_extension": ".py",
   "mimetype": "text/x-python",
   "name": "python",
   "nbconvert_exporter": "python",
   "pygments_lexer": "ipython3",
   "version": "3.10.12"
  }
 },
 "nbformat": 4,
 "nbformat_minor": 2
}
